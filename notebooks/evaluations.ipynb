{
 "cells": [
  {
   "cell_type": "code",
   "execution_count": 2,
   "id": "19a03fdc",
   "metadata": {},
   "outputs": [],
   "source": [
    "import pulp"
   ]
  },
  {
   "cell_type": "code",
   "execution_count": 21,
   "id": "d33b8c26",
   "metadata": {},
   "outputs": [],
   "source": [
    "def build_model(relaxed=False):\n",
    "    p_name = f\"X_Prob{'_relaxed' if relaxed else ''}\"\n",
    "    cat = \"Integer\" if not relaxed else \"Continuous\"\n",
    "\n",
    "    m = pulp.LpProblem(p_name, pulp.LpMinimize)\n",
    "    \n",
    "    # Variables\n",
    "    x1 = pulp.LpVariable(f\"x1\", lowBound=0, cat = cat)\n",
    "    x2 = pulp.LpVariable(f\"x2\", lowBound=0, cat = cat)\n",
    "\n",
    "    # Objective\n",
    "    m += -6*x1 + -5*x2\n",
    "\n",
    "    # Constraints\n",
    "    m += 3*x1 + x2 <= 11\n",
    "    m += -1*x1 + 2*x2 <= 5\n",
    "\n",
    "    return m"
   ]
  },
  {
   "cell_type": "code",
   "execution_count": 22,
   "id": "8f810aad",
   "metadata": {},
   "outputs": [
    {
     "name": "stdout",
     "output_type": "stream",
     "text": [
      "X_Prob_relaxed status: Optimal\n",
      "X_Prob_relaxed objective: -33.1428569\n",
      "x1_relaxed = 2.4285714, x2_relaxed = 3.7142857\n"
     ]
    }
   ],
   "source": [
    "# Relaxation\n",
    "p_relaxed = build_model(True)\n",
    "p_relaxed.solve()\n",
    "print(f\"{p_relaxed.name} status:\", pulp.LpStatus[p_relaxed.status])\n",
    "print(f\"{p_relaxed.name} objective:\", pulp.value(p_relaxed.objective))\n",
    "\n",
    "# Relaxation Results\n",
    "x1_relaxed = next((v for v in p_relaxed.variables() if v.name == 'x1'), None)\n",
    "x2_relaxed = next((v for v in p_relaxed.variables() if v.name == 'x2'), None)\n",
    "sol_x1_relaxed = pulp.value(x1_relaxed)\n",
    "sol_x2_relaxed = pulp.value(x2_relaxed)\n",
    "print(f'x1_relaxed = {sol_x1_relaxed}, x2_relaxed = {sol_x2_relaxed}')"
   ]
  },
  {
   "cell_type": "code",
   "execution_count": 23,
   "id": "261b026c",
   "metadata": {},
   "outputs": [
    {
     "name": "stdout",
     "output_type": "stream",
     "text": [
      "X_Prob status: Optimal\n",
      "X_Prob objective: -28.0\n",
      "x1_milp = 3.0, x2_milp = 2.0\n"
     ]
    }
   ],
   "source": [
    "# MILP\n",
    "p_milp = build_model(False)\n",
    "p_milp.solve()\n",
    "print(f\"{p_milp.name} status:\", pulp.LpStatus[p_milp.status])\n",
    "print(f\"{p_milp.name} objective:\", pulp.value(p_milp.objective))\n",
    "\n",
    "# Relaxation Results\n",
    "x1_milp = next((v for v in p_milp.variables() if v.name == 'x1'), None)\n",
    "x2_milp = next((v for v in p_milp.variables() if v.name == 'x2'), None)\n",
    "sol_x1_milp = pulp.value(x1_milp)\n",
    "sol_x2_milp = pulp.value(x2_milp)\n",
    "print(f'x1_milp = {sol_x1_milp}, x2_milp = {sol_x2_milp}')"
   ]
  },
  {
   "cell_type": "markdown",
   "id": "716f5a4e",
   "metadata": {},
   "source": [
    "#### Branch and Bound Example"
   ]
  },
  {
   "cell_type": "code",
   "execution_count": 12,
   "id": "29da55cc",
   "metadata": {},
   "outputs": [
    {
     "name": "stdout",
     "output_type": "stream",
     "text": [
      "Branch-And-Bound_example status: Optimal\n",
      "Branch-And-Bound_example objective: 11.6\n",
      "x1_milp = 8.0, x2_milp = 0.0, x3_milp = 1.0, x4_milp = 2.0\n"
     ]
    }
   ],
   "source": [
    "# Problem\n",
    "m = pulp.LpProblem('Branch-And-Bound_example', pulp.LpMaximize)\n",
    "\n",
    "cat = 'Integer'\n",
    "#cat = 'Continuous'\n",
    "\n",
    "# Variables\n",
    "x1 = pulp.LpVariable(f\"x1\", lowBound=0, cat = cat)\n",
    "x2 = pulp.LpVariable(f\"x2\", lowBound=0, cat = cat)\n",
    "x3 = pulp.LpVariable(f\"x3\", lowBound=0, cat = cat)\n",
    "x4 = pulp.LpVariable(f\"x4\", lowBound=0, cat = cat)\n",
    "\n",
    "# Objective\n",
    "m += x1 + 1.25*x2 + 1.9*x3 + .85*x4\n",
    "\n",
    "# Constraints\n",
    "m += 1.2*x1 + 2.5*x2 <= 10.1\n",
    "m += x2 + 3.2*x3 + 1.15*x4 <= 5.52\n",
    "m += x1 + x2 + x3 + x4 <= 12.28\n",
    "\n",
    "m.solve()\n",
    "\n",
    "print(f\"{m.name} status:\", pulp.LpStatus[m.status])\n",
    "print(f\"{m.name} objective:\", pulp.value(m.objective))\n",
    "\n",
    "# Relaxation Results\n",
    "x1_milp = next((v for v in m.variables() if v.name == 'x1'), None)\n",
    "x2_milp = next((v for v in m.variables() if v.name == 'x2'), None)\n",
    "x3_milp = next((v for v in m.variables() if v.name == 'x3'), None)\n",
    "x4_milp = next((v for v in m.variables() if v.name == 'x4'), None)\n",
    "sol_x1_milp = pulp.value(x1_milp)\n",
    "sol_x2_milp = pulp.value(x2_milp)\n",
    "sol_x3_milp = pulp.value(x3_milp)\n",
    "sol_x4_milp = pulp.value(x4_milp)\n",
    "print(f'x1_milp = {sol_x1_milp}, x2_milp = {sol_x2_milp}, x3_milp = {sol_x3_milp}, x4_milp = {sol_x4_milp}')"
   ]
  }
 ],
 "metadata": {
  "kernelspec": {
   "display_name": "_venv_linearprogramming",
   "language": "python",
   "name": "python3"
  },
  "language_info": {
   "codemirror_mode": {
    "name": "ipython",
    "version": 3
   },
   "file_extension": ".py",
   "mimetype": "text/x-python",
   "name": "python",
   "nbconvert_exporter": "python",
   "pygments_lexer": "ipython3",
   "version": "3.11.4"
  }
 },
 "nbformat": 4,
 "nbformat_minor": 5
}

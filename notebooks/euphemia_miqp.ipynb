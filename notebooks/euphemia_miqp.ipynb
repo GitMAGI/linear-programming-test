{
 "cells": [
  {
   "cell_type": "code",
   "execution_count": 1,
   "id": "caac824f",
   "metadata": {},
   "outputs": [],
   "source": [
    "import cvxpy as cp\n",
    "import pulp as pl\n",
    "import re\n",
    "import os\n",
    "import json"
   ]
  },
  {
   "cell_type": "markdown",
   "id": "28b4c7e9",
   "metadata": {},
   "source": [
    "## Volume of a box"
   ]
  },
  {
   "cell_type": "code",
   "execution_count": 2,
   "id": "aa1d370e",
   "metadata": {},
   "outputs": [
    {
     "name": "stdout",
     "output_type": "stream",
     "text": [
      "maximize h @ w @ d\n",
      "subject to 2.0 @ (h @ w + h @ d) <= 100.0\n",
      "           w @ d <= 10.0\n",
      "           0.5 <= h / w\n",
      "           h / w <= 2.0\n",
      "           0.5 <= d / w\n",
      "           d / w <= 2.0\n"
     ]
    },
    {
     "data": {
      "text/plain": [
       "np.float64(77.4596656341406)"
      ]
     },
     "metadata": {},
     "output_type": "display_data"
    },
    {
     "data": {
      "text/plain": [
       "np.float64(7.7459666205039595)"
      ]
     },
     "metadata": {},
     "output_type": "display_data"
    },
    {
     "data": {
      "text/plain": [
       "np.float64(3.8729833714161064)"
      ]
     },
     "metadata": {},
     "output_type": "display_data"
    },
    {
     "data": {
      "text/plain": [
       "np.float64(2.581988861635852)"
      ]
     },
     "metadata": {},
     "output_type": "display_data"
    },
    {
     "data": {
      "text/plain": [
       "0.8333586514592337"
      ]
     },
     "metadata": {},
     "output_type": "display_data"
    },
    {
     "data": {
      "text/plain": [
       "0.6666413498862451"
      ]
     },
     "metadata": {},
     "output_type": "display_data"
    }
   ],
   "source": [
    "# Problem data.\n",
    "A_wall = 100\n",
    "A_flr = 10\n",
    "alpha = 0.5\n",
    "beta = 2\n",
    "gamma = 0.5\n",
    "delta = 2\n",
    "\n",
    "h = cp.Variable(pos=True, name=\"h\")\n",
    "w = cp.Variable(pos=True, name=\"w\")\n",
    "d = cp.Variable(pos=True, name=\"d\")\n",
    "\n",
    "volume = h * w * d\n",
    "wall_area = 2 * (h * w + h * d)\n",
    "flr_area = w * d\n",
    "hw_ratio = h/w\n",
    "dw_ratio = d/w\n",
    "constraints = [\n",
    "    wall_area <= A_wall,\n",
    "    flr_area <= A_flr,\n",
    "    hw_ratio >= alpha,\n",
    "    hw_ratio <= beta,\n",
    "    dw_ratio >= gamma,\n",
    "    dw_ratio <= delta\n",
    "]\n",
    "problem = cp.Problem(cp.Maximize(volume), constraints)\n",
    "print(problem)\n",
    "\n",
    "assert not problem.is_dcp()\n",
    "assert problem.is_dgp()\n",
    "problem.solve(gp=True)\n",
    "\n",
    "display(problem.value)\n",
    "\n",
    "display(h.value)\n",
    "display(w.value)\n",
    "display(d.value)\n",
    "\n",
    "# A 1% increase in allowed wall space should yield approximately\n",
    "# a 0.83% increase in maximum value.\n",
    "display(constraints[0].dual_value)\n",
    "\n",
    "# A 1% increase in allowed wall space should yield approximately\n",
    "# a 0.66% increase in maximum value.\n",
    "display(constraints[1].dual_value)"
   ]
  },
  {
   "cell_type": "markdown",
   "id": "a7cf295d",
   "metadata": {},
   "source": [
    "## Euphemia Mixed-Integer Quadratic Program"
   ]
  },
  {
   "cell_type": "code",
   "execution_count": 3,
   "id": "a20402d9",
   "metadata": {},
   "outputs": [],
   "source": [
    "def normalize_data_dict(data_dict):\n",
    "    \"\"\"\n",
    "    Costruisce un array di oggetti 'new_data'. L'oridnamento dei periodi segue l'indicizzazione di 'new_data'. \n",
    "    \"\"\"\n",
    "    new_data = [] \n",
    "    for pt, data_pt in data_dict.items():\n",
    "        mtu = int(pt.lower().replace(\"pt\", \"\"))\n",
    "        mtu_mult_factor = int(mtu/15)\n",
    "        for datum in data_pt:\n",
    "            p_start = (datum['period']-1)*mtu_mult_factor+1\n",
    "            p_end = p_start+mtu_mult_factor\n",
    "            i = 1\n",
    "            for period in range(p_start, p_end):\n",
    "                is_already_here = False\n",
    "                if len(new_data) > 0:\n",
    "                    for d_ in new_data:\n",
    "                        if d_['period'] == period:\n",
    "                            new_datum = d_\n",
    "                            is_already_here = True\n",
    "                            break\n",
    "                        else:\n",
    "                            new_datum = {'period': period}       \n",
    "                else:\n",
    "                    new_datum = {'period': period}\n",
    "\n",
    "                if not 'OFFID' in new_datum.keys():\n",
    "                    new_datum['OFFID'] = [f'{x}_{pt.lower()}' for x in datum['OFFID']]\n",
    "                    new_datum['OFFList'] = datum['OFFList']\n",
    "                    new_datum['OFFPrices'] = datum['OFFPrices']\n",
    "                    new_datum['OFFZones'] = datum['OFFZones']\n",
    "                    #new_datum['OFFMAR'] = datum['OFFMAR']\n",
    "                else:\n",
    "                    new_datum['OFFID'] += [f'{x}_{pt.lower()}' for x in datum['OFFID']]\n",
    "                    new_datum['OFFList'] += datum['OFFList']\n",
    "                    new_datum['OFFPrices'] += datum['OFFPrices']\n",
    "                    new_datum['OFFZones'] += datum['OFFZones']\n",
    "                    #new_datum['OFFMAR'] += datum['OFFMAR']\n",
    "\n",
    "                if not 'BIDID' in new_datum.keys():\n",
    "                    new_datum['BIDID'] = [f'{x}_{pt.lower()}' for x in datum['BIDID']]\n",
    "                    new_datum['BIDList'] = datum['BIDList']\n",
    "                    new_datum['BIDPrices'] = datum['BIDPrices']\n",
    "                    new_datum['BIDZones'] = datum['BIDZones']\n",
    "                    #new_datum['BIDMAR'] = datum['BIDMAR']\n",
    "                else:\n",
    "                    new_datum['BIDID'] += [f'{x}_{pt.lower()}' for x in datum['BIDID']]\n",
    "                    new_datum['BIDList'] += datum['BIDList']\n",
    "                    new_datum['BIDPrices'] += datum['BIDPrices']\n",
    "                    new_datum['BIDZones'] += datum['BIDZones']\n",
    "                    #new_datum['BIDMAR'] += datum['BIDMAR']\n",
    "\n",
    "                if not 'Zones' in new_datum.keys():\n",
    "                    new_datum['Zones'] = datum['Zones']\n",
    "                    new_datum['ZoneNames'] = datum['ZoneNames']\n",
    "                else:\n",
    "                    #new_datum['Zones'] += datum['Zones']\n",
    "                    new_datum['Zones'] = list(set(new_datum['Zones']+datum['Zones']))\n",
    "                    #new_datum['ZoneNames'] += datum['ZoneNames']\n",
    "                    new_datum['ZoneNames'] = list(set(new_datum['ZoneNames']+datum['ZoneNames']))\n",
    "\n",
    "                if not is_already_here:\n",
    "                    new_data.append(new_datum)\n",
    "                i += 1\n",
    "    return new_data"
   ]
  },
  {
   "cell_type": "code",
   "execution_count": 4,
   "id": "a0b82a1a",
   "metadata": {},
   "outputs": [],
   "source": [
    "input_path = os.path.join('..', 'inputs')\n",
    "#in_file_name = 'fully_accepted_1.json'\n",
    "#in_file_name = 'fully_accepted_2.json'\n",
    "in_file_name = 'partially_accepted_3.json'\n",
    "#in_file_name = 'partially_accepted_4.json'\n",
    "#in_file_name = 'paradoxally_rejected_5.json'\n",
    "\n",
    "data_dict = {}\n",
    "with open(os.path.join(input_path, in_file_name), 'r') as f:\n",
    "    data_dict = json.load(f)\n",
    "\n",
    "data_pt15 = data_dict[\"data_pt15\"] if \"data_pt15\" in data_dict.keys() else []\n",
    "data_pt30 = data_dict[\"data_pt30\"] if \"data_pt30\" in data_dict.keys() else []\n",
    "data_pt60 = data_dict[\"data_pt60\"] if \"data_pt60\" in data_dict.keys() else []\n",
    "\n",
    "data = normalize_data_dict({\"pt15\": data_pt15, \"pt30\": data_pt30, \"pt60\": data_pt60})"
   ]
  },
  {
   "cell_type": "code",
   "execution_count": 41,
   "id": "498c0642",
   "metadata": {},
   "outputs": [],
   "source": [
    "def build_miqp_problem(data, relaxed=False):\n",
    "    m_rgx_ptn='^(\\w+)_pt(\\d{2})$'\n",
    "\n",
    "    sub_probs = []\n",
    "    constraints = []\n",
    "    constraints_dict = {}\n",
    "    objective = None\n",
    "\n",
    "    g_ovs = []\n",
    "    g_obvs = []    \n",
    "    g_bvs = []\n",
    "    g_bbvs = []\n",
    "\n",
    "    for datum in data:\n",
    "        pt15_p = datum['period']\n",
    "\n",
    "        off_ids = datum['OFFID']\n",
    "        off_lists = datum['OFFList']\n",
    "        off_prices = datum['OFFPrices']\n",
    "        off_zones = datum['OFFZones']\n",
    "        bid_ids = datum['BIDID']\n",
    "        bid_lists = datum['BIDList']\n",
    "        bid_prices = datum['BIDPrices']\n",
    "        bid_zones = datum['BIDZones']\n",
    "        zone_ids = datum['Zones']\n",
    "\n",
    "        ovs = []    # Vars for offers\n",
    "        obvs = []   # Acceptance binary vars for offers \n",
    "        for j in range(0, len(off_ids)):\n",
    "            if not re.match(m_rgx_ptn, off_ids[j]):\n",
    "                continue\n",
    "\n",
    "            vname = re.search(m_rgx_ptn, off_ids[j]).group(1)\n",
    "            mtu = int(re.search(m_rgx_ptn, off_ids[j]).group(2))\n",
    "            if mtu == 15:\n",
    "                p = pt15_p\n",
    "            else:\n",
    "                mtu_mult_factor = int(mtu/15)\n",
    "                p = int((pt15_p-1)/mtu_mult_factor)+1\n",
    "            \n",
    "            obv = next((v for v in g_obvs if v.name() == f\"off_acceptance_{vname}_pt{mtu}_{p}\"), None)\n",
    "            if obv is None:\n",
    "                obv = cp.Variable(name=f\"off_acceptance_{vname}_pt{mtu}_{p}\", pos=True, bounds=[0, 1], integer=True if not relaxed else False)\n",
    "                g_obvs.append(obv)\n",
    "            obvs.append(obv)\n",
    "\n",
    "            ov = next((v for v in g_ovs if v.name() == f\"off_{vname}_pt{mtu}_{p}\"), None)\n",
    "            if ov is None:\n",
    "                ov = cp.Variable(name=f\"off_{vname}_pt{mtu}_{p}\", pos=True, bounds=[0, off_lists[j]], integer=False)\n",
    "                g_ovs.append(ov)\n",
    "            ovs.append(ov)\n",
    "\n",
    "        bvs = []    # Vars for offers\n",
    "        bbvs = []   # Acceptance binary vars for bids \n",
    "        for j in range(0, len(bid_ids)):\n",
    "            if not re.match(m_rgx_ptn, bid_ids[j]):\n",
    "                continue\n",
    "            \n",
    "            vname = re.search(m_rgx_ptn, bid_ids[j]).group(1)\n",
    "            mtu = int(re.search(m_rgx_ptn, bid_ids[j]).group(2))\n",
    "            if mtu == 15:\n",
    "                p = pt15_p\n",
    "            else:\n",
    "                mtu_mult_factor = int(mtu/15)\n",
    "                p = int((pt15_p-1)/mtu_mult_factor)+1\n",
    "\n",
    "            bbv = next((v for v in g_bbvs if v.name() == f\"bid_acceptance_{vname}_pt{mtu}_{p}\"), None)\n",
    "            if bbv is None:\n",
    "                bbv = cp.Variable(name=f\"bid_acceptance_{vname}_pt{mtu}_{p}\", pos=True, bounds=[0, 1], integer=True if not relaxed else False)\n",
    "                g_bbvs.append(bbv)\n",
    "            bbvs.append(bbv)\n",
    "            \n",
    "            bv = next((v for v in g_bvs if v.name() == f\"bid_{vname}_pt{mtu}_{p}\"), None)\n",
    "            if bv is None:\n",
    "                bv = cp.Variable(name=f\"bid_{vname}_pt{mtu}_{p}\", pos=True, bounds=[0, bid_lists[j]], integer=False)\n",
    "                g_bvs.append(bv)\n",
    "            bvs.append(bv)\n",
    "\n",
    "        #sub_probs.append(cp.sum([bbvs[j]*bvs[j]*bid_prices[j] for j in range(0, len(bid_lists))]) - cp.sum([obvs[j]*ovs[j]*off_prices[j] for j in range(0, len(off_lists))]))\n",
    "        sub_probs.append(cp.sum([bvs[j]*bid_prices[j] for j in range(0, len(bid_lists))]) - cp.sum([ovs[j]*off_prices[j] for j in range(0, len(off_lists))]))\n",
    "\n",
    "        # Constarint 1\n",
    "        constraint_1_name = f\"balance_bids_offs_{pt15_p}\"        \n",
    "        #constraint_1 = cp.Zero(cp.sum( [bbvs[j]*bvs[j] for j in range(0, len(bvs))] ) - cp.sum( [obvs[j]*ovs[j] for j in range(0, len(ovs))] ))\n",
    "        constraint_1 = cp.Zero(cp.sum( bvs ) - cp.sum( ovs ))        \n",
    "        if constraint_1_name not in constraints_dict.keys():\n",
    "            constraints.append(constraint_1)\n",
    "            constraints_dict[constraint_1_name] = constraint_1.constr_id\n",
    "\n",
    "        for z in zone_ids:\n",
    "            # Constraint 2\n",
    "            constraint_2_name = f\"zone_balance_{z}_{pt15_p}\"\n",
    "            #constraint_2 = cp.Zero(cp.sum([ bbvs[i]*v for i,v in enumerate(bvs) if bid_zones[i] == z ]) - cp.sum([ obvs[i]*v for i,v in enumerate(ovs) if off_zones[i] == z ]))\n",
    "            constraint_2 = cp.Zero(cp.sum([ v for i,v in enumerate(bvs) if bid_zones[i] == z ]) - cp.sum([ v for i,v in enumerate(ovs) if off_zones[i] == z ]))\n",
    "            if constraint_2 not in constraints_dict.keys():\n",
    "                constraints.append(constraint_2)\n",
    "                constraints_dict[constraint_2_name] = constraint_2.constr_id\n",
    "            \n",
    "    # Objective function to maximize\n",
    "    objective = cp.Maximize(cp.sum(sub_probs))\n",
    "\n",
    "    prob = cp.Problem(objective, constraints)\n",
    "    \n",
    "    return prob, constraints_dict"
   ]
  },
  {
   "cell_type": "code",
   "execution_count": 42,
   "id": "a6c2a939",
   "metadata": {},
   "outputs": [
    {
     "name": "stdout",
     "output_type": "stream",
     "text": [
      "maximize bid_a_pt60_1 @ 30.0 + -off_b_pt15_1 @ 25.0 + bid_a_pt60_1 @ 30.0 + -off_c_pt15_2 @ 26.0 + bid_a_pt60_1 @ 30.0 + -off_d_pt15_3 @ 27.0 + bid_a_pt60_1 @ 30.0 + -off_e_pt15_4 @ 28.0\n",
      "subject to bid_a_pt60_1 + -off_b_pt15_1 == 0\n",
      "           bid_a_pt60_1 + -off_b_pt15_1 == 0\n",
      "           bid_a_pt60_1 + -off_c_pt15_2 == 0\n",
      "           bid_a_pt60_1 + -off_c_pt15_2 == 0\n",
      "           bid_a_pt60_1 + -off_d_pt15_3 == 0\n",
      "           bid_a_pt60_1 + -off_d_pt15_3 == 0\n",
      "           bid_a_pt60_1 + -off_e_pt15_4 == 0\n",
      "           bid_a_pt60_1 + -off_e_pt15_4 == 0\n"
     ]
    },
    {
     "data": {
      "text/plain": [
       "419.99999998622764"
      ]
     },
     "metadata": {},
     "output_type": "display_data"
    }
   ],
   "source": [
    "problem_name = f'euphemia_miqp_{in_file_name.replace(\".json\", \"\")}'\n",
    "relaxed = False\n",
    "\n",
    "prob, constraints_dict = build_miqp_problem(data, relaxed=relaxed)\n",
    "constraints_dict_rev = dict((v,k) for k,v in constraints_dict.items())\n",
    "\n",
    "print(prob)\n",
    "\n",
    "#assert not prob.is_dcp()\n",
    "#assert prob.is_dgp()\n",
    "#prob.solve(gp=True)\n",
    "\n",
    "prob.solve(gp=False)\n",
    "\n",
    "display(prob.value.item())"
   ]
  },
  {
   "cell_type": "code",
   "execution_count": 38,
   "id": "a4632edc",
   "metadata": {},
   "outputs": [
    {
     "name": "stdout",
     "output_type": "stream",
     "text": [
      "Problem Name: euphemia_miqp_partially_accepted_3 - Relaxed: False\n",
      "Problem status: optimal\n",
      "Problem objective: 420.0\n",
      "offs: [{'b': 30.0}, {'c': 30.0}, {'d': 30.0}, {'e': 30.0}]\n",
      "bids: [{'a': 30.0}, {'a': 30.0}, {'a': 30.0}, {'a': 30.0}]\n",
      "offs acceptance: [{}, {}, {}, {}]\n",
      "bids acceptance: [{}, {}, {}, {}]\n",
      "balance_zone_prices_results: [{1: 1.640250822276812e-06}, {1: -1.8503063614616622e-07}, {1: -5.772955713467809e-07}, {1: -4.7361031310089174e-06}]\n",
      "zone_prices_results: [{1: 12.5}, {1: 20.0}, {1: 13.5}, {1: 14.0}]\n"
     ]
    }
   ],
   "source": [
    "m_rgx_ptn='^(\\w+)_pt(\\d{2})$'\n",
    "\n",
    "ov_results = []\n",
    "bv_results = []\n",
    "obv_results = []\n",
    "bbv_results = []\n",
    "balance_zone_prices_results = []\n",
    "zone_prices_results = []\n",
    "\n",
    "for datum in data:\n",
    "    pt15_p = datum['period']\n",
    "\n",
    "    off_ids = datum['OFFID']\n",
    "    bid_ids = datum['BIDID']\n",
    "\n",
    "    for j in range(0, len(off_ids)):\n",
    "        vname = re.search(m_rgx_ptn, off_ids[j]).group(1)\n",
    "        mtu = int(re.search(m_rgx_ptn, off_ids[j]).group(2))\n",
    "        if mtu == 15:\n",
    "            p = pt15_p\n",
    "        else:\n",
    "            mtu_mult_factor = int(mtu/15)\n",
    "            p = int((pt15_p-1)/mtu_mult_factor)+1\n",
    "\n",
    "        ov_rgx_ptn = f'^off_({vname})_pt{mtu}_{p}$'\n",
    "        ov_result = {re.search(ov_rgx_ptn, v.name()).group(1): round(v.value.item(),4) if v.value is not None else None for v in prob.variables() \\\n",
    "                    if re.match(ov_rgx_ptn, v.name(), re.IGNORECASE)}\n",
    "        ov_results.append(ov_result)\n",
    "\n",
    "        obv_rgx_ptn = f'^off_acceptance_({vname})_pt{mtu}_{p}$'\n",
    "        obv_result = {re.search(obv_rgx_ptn, v.name()).group(1): round(v.value.item(),4) if v.value is not None else None for v in prob.variables() \\\n",
    "                    if re.match(obv_rgx_ptn, v.name(), re.IGNORECASE)}\n",
    "        obv_results.append(obv_result)\n",
    "\n",
    "    for j in range(0, len(bid_ids)):\n",
    "        vname = re.search(m_rgx_ptn, bid_ids[j]).group(1)\n",
    "        mtu = int(re.search(m_rgx_ptn, bid_ids[j]).group(2))\n",
    "        if mtu == 15:\n",
    "            p = pt15_p\n",
    "        else:\n",
    "            mtu_mult_factor = int(mtu/15)\n",
    "            p = int((pt15_p-1)/mtu_mult_factor)+1\n",
    "    \n",
    "        bv_rgx_ptn = f'^bid_({vname})_pt{mtu}_{p}$'\n",
    "        bv_result = {re.search(bv_rgx_ptn, v.name()).group(1): round(v.value.item(),4) if v.value is not None else None for v in prob.variables() \\\n",
    "                    if re.match(bv_rgx_ptn, v.name(), re.IGNORECASE)}\n",
    "        bv_results.append(bv_result)\n",
    "\n",
    "        bbv_rgx_ptn = f'^bid_acceptance_({vname})_pt{mtu}_{p}$'\n",
    "        bbv_result = {re.search(bbv_rgx_ptn, v.name()).group(1): round(v.value.item(),4) if v.value is not None else None for v in prob.variables() \\\n",
    "                    if re.match(bbv_rgx_ptn, v.name(), re.IGNORECASE)}\n",
    "        bbv_results.append(bbv_result)\n",
    "\n",
    "    # Balance Bids/Offs in dual mode (price?)        \n",
    "    balance_main = next(c.dual_value for c in prob.constraints if c.constr_id == constraints_dict[f\"balance_bids_offs_{pt15_p}\"])\n",
    "    # Balance Zone in dual mode (shadow proces)\n",
    "    zone_blanace_contraint_regex = re.compile(f'^zone_balance_(\\w+)_{pt15_p}$')\n",
    "    balance_zone_prices_result = { \n",
    "        int(re.search(zone_blanace_contraint_regex, constraints_dict_rev[c.constr_id]).group(1)) : balance_main - round(c.dual_value,2) \n",
    "        for c in prob.constraints if zone_blanace_contraint_regex.match(constraints_dict_rev[c.constr_id])\n",
    "    }\n",
    "    zone_prices_result = {\n",
    "        int(re.search(zone_blanace_contraint_regex, constraints_dict_rev[c.constr_id]).group(1)) : round(c.dual_value,2) \n",
    "        for c in prob.constraints if zone_blanace_contraint_regex.match(constraints_dict_rev[c.constr_id])\n",
    "    }\n",
    "    balance_zone_prices_results.append(balance_zone_prices_result)\n",
    "    zone_prices_results.append(zone_prices_result)\n",
    "\n",
    "print(f\"Problem Name: {problem_name} - Relaxed: {relaxed}\")\n",
    "print(f\"Problem status: {prob.status}\")\n",
    "print(f\"Problem objective: {round(pl.value(prob.value), 2)}\")\n",
    "print(f\"offs: {ov_results}\")\n",
    "print(f\"bids: {bv_results}\")\n",
    "print(f\"offs acceptance: {obv_results}\")\n",
    "print(f\"bids acceptance: {bbv_results}\")\n",
    "print(f\"balance_zone_prices_results: {balance_zone_prices_results}\")\n",
    "print(f\"zone_prices_results: {zone_prices_results}\")"
   ]
  },
  {
   "cell_type": "code",
   "execution_count": 14,
   "id": "a1912526",
   "metadata": {},
   "outputs": [
    {
     "name": "stdout",
     "output_type": "stream",
     "text": [
      "maximize bid_a_pt60_1 @ 30.0 + -off_b_pt15_1 @ 25.0 + bid_a_pt60_1 @ 30.0 + -off_c_pt15_2 @ 26.0 + bid_a_pt60_1 @ 30.0 + -off_d_pt15_3 @ 27.0 + bid_a_pt60_1 @ 30.0 + -off_e_pt15_4 @ 28.0\n",
      "subject to bid_a_pt60_1 + -off_b_pt15_1 == 0\n",
      "           bid_a_pt60_1 + -off_b_pt15_1 == 0\n",
      "           bid_a_pt60_1 + -off_c_pt15_2 == 0\n",
      "           bid_a_pt60_1 + -off_c_pt15_2 == 0\n",
      "           bid_a_pt60_1 + -off_d_pt15_3 == 0\n",
      "           bid_a_pt60_1 + -off_d_pt15_3 == 0\n",
      "           bid_a_pt60_1 + -off_e_pt15_4 == 0\n",
      "           bid_a_pt60_1 + -off_e_pt15_4 == 0\n"
     ]
    }
   ],
   "source": [
    "print(prob)"
   ]
  },
  {
   "cell_type": "markdown",
   "id": "42e9130d",
   "metadata": {},
   "source": [
    "## LP vs QP Solver"
   ]
  },
  {
   "cell_type": "code",
   "execution_count": 24,
   "id": "bf0b1cfc",
   "metadata": {},
   "outputs": [
    {
     "name": "stdout",
     "output_type": "stream",
     "text": [
      "Problem status: Optimal\n",
      "Problem objective: 2460.0\n",
      "Problem vars\n",
      "x1: 12.0\n",
      "x2: 9.0\n",
      "Problem duals\n",
      "_C1: 60.0\n",
      "_C2: 40.0\n",
      "_C3: -0.0\n"
     ]
    }
   ],
   "source": [
    "x1 = pl.LpVariable('x1', lowBound=0)\n",
    "x2 = pl.LpVariable('x2', lowBound=0)\n",
    "\n",
    "prob = pl.LpProblem(name='LP_easy', sense=pl.LpMaximize)\n",
    "prob += 130*x1 + 100*x2\n",
    "prob += 1.5*x1 + x2 <= 27\n",
    "prob += x1 + x2 <= 21\n",
    "prob += 0.3*x1 + 0.5*x2 <= 9\n",
    "\n",
    "prob.solve(pl.PULP_CBC_CMD(msg=False)) \n",
    "\n",
    "print(f\"Problem status: {pl.LpStatus[prob.status]}\")\n",
    "print(f\"Problem objective: {round(pl.value(prob.objective), 4)}\")\n",
    "\n",
    "print(f\"Problem vars\")\n",
    "for v in prob.variables():\n",
    "    print(f\"{v.name}: {round(v.varValue, 4)}\")\n",
    "\n",
    "print(f\"Problem duals\")\n",
    "for name, c in prob.constraints.items():\n",
    "    print(f\"{name}: {round(c.pi, 4)}\")"
   ]
  },
  {
   "cell_type": "code",
   "execution_count": 28,
   "id": "658add49",
   "metadata": {},
   "outputs": [
    {
     "name": "stdout",
     "output_type": "stream",
     "text": [
      "Problem status: optimal\n",
      "Problem objective: 2460.0\n",
      "Problem vars\n",
      "x1: 12.0\n",
      "x2: 9.0\n",
      "Problem duals\n",
      "_C1: 60.0\n",
      "_C2: 40.0\n",
      "_C3: 0.0\n"
     ]
    }
   ],
   "source": [
    "x1 = cp.Variable(name=f'x1', pos=True, integer=False)\n",
    "x2 = cp.Variable(name=f'x2', pos=True, integer=False)\n",
    "\n",
    "vars = [x1, x2]\n",
    "#constraints = [\n",
    "#    1.5*x1 + x2 <= 27,\n",
    "#    x1 + x2 <= 21,\n",
    "#    0.3*x1 + 0.5*x2 <= 9\n",
    "#]\n",
    "constraints = []\n",
    "constraints_dict = {}\n",
    "c1 = cp.NonPos(1.5*x1 + x2 - 27)\n",
    "constraints.append(c1)\n",
    "constraints_dict[\"_C1\"] = c1.constr_id\n",
    "c2 = cp.NonPos(x1 + x2 - 21)\n",
    "constraints.append(c2)\n",
    "constraints_dict[\"_C2\"] = c2.constr_id\n",
    "c3 = cp.NonPos(0.3*x1 + 0.5*x2 - 9)\n",
    "constraints.append(c3)\n",
    "constraints_dict[\"_C3\"] = c3.constr_id\n",
    "\n",
    "objective = cp.Maximize(130*x1 + 100*x2)\n",
    "prob = cp.Problem(objective, constraints)\n",
    "\n",
    "prob.solve(gp=False)\n",
    "\n",
    "print(f\"Problem status: {prob.status}\")\n",
    "print(f\"Problem objective: {round(pl.value(prob.value), 4)}\")\n",
    "\n",
    "print(f\"Problem vars\")\n",
    "for name, v in prob.var_dict.items():\n",
    "    print(f\"{name}: {round(v.value.item(), 4) if v.value is not None else None}\")\n",
    "\n",
    "print(f\"Problem duals\")\n",
    "for name, id in constraints_dict.items():\n",
    "    c = next(c for c in prob.constraints if c.constr_id == id)\n",
    "    print(f\"{name}: {round(c.dual_value, 4)}\")\n"
   ]
  },
  {
   "cell_type": "code",
   "execution_count": null,
   "id": "5a65f213",
   "metadata": {},
   "outputs": [],
   "source": []
  }
 ],
 "metadata": {
  "kernelspec": {
   "display_name": "_venv_linearprogramming",
   "language": "python",
   "name": "python3"
  },
  "language_info": {
   "codemirror_mode": {
    "name": "ipython",
    "version": 3
   },
   "file_extension": ".py",
   "mimetype": "text/x-python",
   "name": "python",
   "nbconvert_exporter": "python",
   "pygments_lexer": "ipython3",
   "version": "3.11.4"
  }
 },
 "nbformat": 4,
 "nbformat_minor": 5
}
